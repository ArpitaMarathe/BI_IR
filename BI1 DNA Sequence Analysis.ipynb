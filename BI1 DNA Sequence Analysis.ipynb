{
 "cells": [
  {
   "cell_type": "code",
   "execution_count": 1,
   "id": "cacdf931",
   "metadata": {},
   "outputs": [
    {
     "name": "stdout",
     "output_type": "stream",
     "text": [
      "GC Content 49.77777777777778\n",
      "Motifs to find: CGT and the motifs found at the positions: 10,18\n",
      "someting CGT\n",
      "coding regions:\n",
      "start:0, end:27\n"
     ]
    }
   ],
   "source": [
    "with open(\"C:/Users/hp/Downloads/Practical_Data/dna_sequence.txt\") as file:\n",
    "    dna_sequence = file.read().strip()\n",
    "    \n",
    "gc_content = (dna_sequence.count(\"G\") + dna_sequence.count(\"C\")) / len(dna_sequence) * 100 \n",
    "#print(f\"GC Content {gc_content}%\")\n",
    "print(\"GC Content\", gc_content)\n",
    "\n",
    "motifs_tofind = \"CGT\"\n",
    "motifs_found = [str(i) for i in range(len(dna_sequence)) if dna_sequence.startswith(motifs_tofind, i)]\n",
    "print(f\"Motifs to find: {motifs_tofind} and the motifs found at the positions: {','.join(motifs_found)}\")\n",
    "print(\"someting\",motifs_tofind)\n",
    "\n",
    "start_codon = \"ATG\"\n",
    "stop_codons = [\"TAA\",\"TAG\",\"TGA\"]\n",
    "coding_regions = []\n",
    "\n",
    "for i, codon in enumerate(dna_sequence):\n",
    "    if dna_sequence[i:i +3] == start_codon:\n",
    "        for j in range(i+3, len(dna_sequence), 3):\n",
    "            codon = dna_sequence[j:j + 3]\n",
    "            if codon in stop_codons:\n",
    "                coding_regions.append((i,j +3))\n",
    "                break\n",
    "        else:\n",
    "            continue\n",
    "            \n",
    "if coding_regions:\n",
    "    print(\"coding regions:\")\n",
    "    for start, end in coding_regions:\n",
    "        print(f\"start:{start}, end:{end}\")"
   ]
  },
  {
   "cell_type": "code",
   "execution_count": null,
   "id": "b69f1dcb",
   "metadata": {},
   "outputs": [],
   "source": []
  }
 ],
 "metadata": {
  "kernelspec": {
   "display_name": "Python 3 (ipykernel)",
   "language": "python",
   "name": "python3"
  },
  "language_info": {
   "codemirror_mode": {
    "name": "ipython",
    "version": 3
   },
   "file_extension": ".py",
   "mimetype": "text/x-python",
   "name": "python",
   "nbconvert_exporter": "python",
   "pygments_lexer": "ipython3",
   "version": "3.9.12"
  }
 },
 "nbformat": 4,
 "nbformat_minor": 5
}
